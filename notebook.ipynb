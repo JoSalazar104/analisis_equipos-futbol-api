{
 "cells": [
  {
   "cell_type": "markdown",
   "metadata": {},
   "source": [
    "## Examen realizado entre Sebastián Ochoa y José Miguel Salazar"
   ]
  },
  {
   "cell_type": "code",
   "execution_count": 39,
   "metadata": {},
   "outputs": [],
   "source": [
    "import pandas as pd\n",
    "from pipeline import Pipeline"
   ]
  },
  {
   "cell_type": "markdown",
   "metadata": {},
   "source": [
    "LAKERS (2022-2023)"
   ]
  },
  {
   "cell_type": "code",
   "execution_count": 40,
   "metadata": {},
   "outputs": [
    {
     "name": "stdout",
     "output_type": "stream",
     "text": [
      "Guardando archivo en: data\\17_in[2022]_games.csv\n"
     ]
    }
   ],
   "source": [
    "pipeline_lakers_2022_2023 = Pipeline([2022],17,'data')\n",
    "pipeline_lakers_2022_2023.run()"
   ]
  },
  {
   "cell_type": "markdown",
   "metadata": {},
   "source": [
    "DENVER (2022-2023)"
   ]
  },
  {
   "cell_type": "code",
   "execution_count": 4,
   "metadata": {},
   "outputs": [
    {
     "name": "stdout",
     "output_type": "stream",
     "text": [
      "Guardando archivo en: data\\9_in[2022, 2023]_games.csv\n"
     ]
    }
   ],
   "source": [
    "pipeline_denver_2022_2023 = Pipeline([2022,2023],9,'data')\n",
    "pipeline_denver_2022_2023.run()"
   ]
  },
  {
   "cell_type": "markdown",
   "metadata": {},
   "source": [
    "Poner una columna de identificación"
   ]
  },
  {
   "cell_type": "code",
   "execution_count": 5,
   "metadata": {},
   "outputs": [],
   "source": [
    "data_denver = pipeline_denver_2022_2023.data\n",
    "data_lakers = pipeline_lakers_2022_2023.data\n",
    "\n",
    "data_denver['team'] = 'denver'\n",
    "data_lakers['team'] = 'lakers'"
   ]
  },
  {
   "cell_type": "markdown",
   "metadata": {},
   "source": [
    "Unficar los DataFrames"
   ]
  },
  {
   "cell_type": "code",
   "execution_count": 15,
   "metadata": {},
   "outputs": [],
   "source": [
    "df_all = pd.concat([data_lakers, data_denver], ignore_index=True)\n",
    "\n",
    "df_all = df_all.drop_duplicates(subset='id', keep='first')\n"
   ]
  },
  {
   "cell_type": "markdown",
   "metadata": {},
   "source": [
    "Exportación a Excel"
   ]
  },
  {
   "cell_type": "code",
   "execution_count": null,
   "metadata": {},
   "outputs": [],
   "source": [
    "df_all.to_excel('Denver_Lakers_2022_2023.xlsx', index=False)"
   ]
  },
  {
   "cell_type": "markdown",
   "metadata": {},
   "source": [
    "Analisis de nulos"
   ]
  },
  {
   "cell_type": "code",
   "execution_count": 17,
   "metadata": {},
   "outputs": [
    {
     "name": "stdout",
     "output_type": "stream",
     "text": [
      "Cantidad de datos nulos por columna:\n",
      "id                            0\n",
      "season                        0\n",
      "stage                         0\n",
      "date.start                    0\n",
      "arena.name                   29\n",
      "arena.city                   29\n",
      "arena.state                  29\n",
      "teams.visitors.id             0\n",
      "teams.visitors.name           0\n",
      "teams.visitors.nickname       0\n",
      "teams.visitors.code           0\n",
      "teams.home.id                 0\n",
      "teams.home.name               0\n",
      "teams.home.nickname           0\n",
      "teams.home.code               0\n",
      "scores.visitors.linescore     0\n",
      "scores.visitors.points        0\n",
      "scores.home.linescore         0\n",
      "scores.home.points            0\n",
      "winner                        0\n",
      "diferencia_puntos             0\n",
      "team                          0\n",
      "dtype: int64\n"
     ]
    }
   ],
   "source": [
    "null_counts = df_all.isnull().sum()\n",
    "print(\"Cantidad de datos nulos por columna:\")\n",
    "print(null_counts)"
   ]
  },
  {
   "cell_type": "markdown",
   "metadata": {},
   "source": [
    "Uso de value value_couuntrs"
   ]
  },
  {
   "cell_type": "code",
   "execution_count": null,
   "metadata": {},
   "outputs": [
    {
     "name": "stdout",
     "output_type": "stream",
     "text": [
      "Frecuencia de ganadores contra los lakers y denver:\n",
      "winner\n",
      "Denver Nuggets            141\n",
      "Houston Rockets            72\n",
      "Minnesota Timberwolves     16\n",
      "Phoenix Suns                9\n",
      "Dallas Mavericks            9\n",
      "LA Clippers                 9\n",
      "Oklahoma City Thunder       9\n",
      "Sacramento Kings            9\n",
      "New Orleans Pelicans        8\n",
      "Los Angeles Lakers          7\n",
      "Golden State Warriors       7\n",
      "Utah Jazz                   7\n",
      "Memphis Grizzlies           6\n",
      "Portland Trail Blazers      6\n",
      "Philadelphia 76ers          6\n",
      "New York Knicks             6\n",
      "Orlando Magic               6\n",
      "San Antonio Spurs           6\n",
      "Miami Heat                  6\n",
      "Chicago Bulls               5\n",
      "Atlanta Hawks               4\n",
      "Milwaukee Bucks             4\n",
      "Indiana Pacers              4\n",
      "Toronto Raptors             4\n",
      "Brooklyn Nets               4\n",
      "Boston Celtics              4\n",
      "Cleveland Cavaliers         4\n",
      "Washington Wizards          1\n",
      "Charlotte Hornets           1\n",
      "Detroit Pistons             1\n",
      "Name: count, dtype: int64\n",
      "Frecuencia ganadores en partido de los lakers\n",
      "winner\n",
      "Houston Rockets           72\n",
      "Golden State Warriors      7\n",
      "Minnesota Timberwolves     6\n",
      "Dallas Mavericks           6\n",
      "LA Clippers                6\n",
      "New Orleans Pelicans       5\n",
      "Portland Trail Blazers     5\n",
      "Miami Heat                 5\n",
      "Memphis Grizzlies          5\n",
      "Sacramento Kings           5\n",
      "Denver Nuggets             4\n",
      "Indiana Pacers             4\n",
      "San Antonio Spurs          4\n",
      "Los Angeles Lakers         4\n",
      "Oklahoma City Thunder      4\n",
      "New York Knicks            3\n",
      "Phoenix Suns               3\n",
      "Atlanta Hawks              3\n",
      "Toronto Raptors            3\n",
      "Utah Jazz                  3\n",
      "Orlando Magic              3\n",
      "Brooklyn Nets              3\n",
      "Boston Celtics             3\n",
      "Philadelphia 76ers         3\n",
      "Cleveland Cavaliers        3\n",
      "Milwaukee Bucks            2\n",
      "Chicago Bulls              2\n",
      "Washington Wizards         1\n",
      "Charlotte Hornets          1\n",
      "Name: count, dtype: int64\n",
      "Frecuencia ganadores en partido de denver\n",
      "winner\n",
      "Denver Nuggets            141\n",
      "Minnesota Timberwolves     10\n",
      "Phoenix Suns                6\n",
      "Oklahoma City Thunder       5\n",
      "Utah Jazz                   4\n",
      "Houston Rockets             4\n",
      "Sacramento Kings            4\n",
      "Chicago Bulls               3\n",
      "Los Angeles Lakers          3\n",
      "New York Knicks             3\n",
      "Orlando Magic               3\n",
      "LA Clippers                 3\n",
      "New Orleans Pelicans        3\n",
      "Dallas Mavericks            3\n",
      "Philadelphia 76ers          3\n",
      "Milwaukee Bucks             2\n",
      "San Antonio Spurs           2\n",
      "Portland Trail Blazers      1\n",
      "Detroit Pistons             1\n",
      "Boston Celtics              1\n",
      "Memphis Grizzlies           1\n",
      "Atlanta Hawks               1\n",
      "Miami Heat                  1\n",
      "Brooklyn Nets               1\n",
      "Toronto Raptors             1\n",
      "Cleveland Cavaliers         1\n",
      "Name: count, dtype: int64\n"
     ]
    }
   ],
   "source": [
    "\n",
    "print('Frecuencia ganadores en partido de los lakers')\n",
    "print(data_lakers['winner'].value_counts())\n",
    "print('Frecuencia ganadores en partido de denver')\n",
    "print(data_denver['winner'].value_counts())\n",
    "print(\"Frecuencia de ganadores contra los lakers y denver:\")\n",
    "print(df_all['winner'].value_counts())"
   ]
  },
  {
   "cell_type": "markdown",
   "metadata": {},
   "source": [
    "Uso del group.by\n"
   ]
  },
  {
   "cell_type": "code",
   "execution_count": 11,
   "metadata": {},
   "outputs": [
    {
     "name": "stdout",
     "output_type": "stream",
     "text": [
      "Total de puntos de visitante por equipo consultado:\n",
      "team\n",
      "denver    23041\n",
      "lakers    19802\n",
      "Name: scores.visitors.points, dtype: int64\n"
     ]
    }
   ],
   "source": [
    "print(\"Total de puntos de visitante por equipo consultado:\")\n",
    "print(df_all.groupby('team')['scores.visitors.points'].sum())"
   ]
  },
  {
   "cell_type": "markdown",
   "metadata": {},
   "source": [
    "Uso del quiery"
   ]
  },
  {
   "cell_type": "code",
   "execution_count": 13,
   "metadata": {},
   "outputs": [
    {
     "name": "stdout",
     "output_type": "stream",
     "text": [
      "Partidos con diferencia de puntos mayor o igual a 10:\n"
     ]
    },
    {
     "data": {
      "text/html": [
       "<div>\n",
       "<style scoped>\n",
       "    .dataframe tbody tr th:only-of-type {\n",
       "        vertical-align: middle;\n",
       "    }\n",
       "\n",
       "    .dataframe tbody tr th {\n",
       "        vertical-align: top;\n",
       "    }\n",
       "\n",
       "    .dataframe thead th {\n",
       "        text-align: right;\n",
       "    }\n",
       "</style>\n",
       "<table border=\"1\" class=\"dataframe\">\n",
       "  <thead>\n",
       "    <tr style=\"text-align: right;\">\n",
       "      <th></th>\n",
       "      <th>id</th>\n",
       "      <th>season</th>\n",
       "      <th>stage</th>\n",
       "      <th>date.start</th>\n",
       "      <th>arena.name</th>\n",
       "      <th>arena.city</th>\n",
       "      <th>arena.state</th>\n",
       "      <th>teams.visitors.id</th>\n",
       "      <th>teams.visitors.name</th>\n",
       "      <th>teams.visitors.nickname</th>\n",
       "      <th>...</th>\n",
       "      <th>teams.home.name</th>\n",
       "      <th>teams.home.nickname</th>\n",
       "      <th>teams.home.code</th>\n",
       "      <th>scores.visitors.linescore</th>\n",
       "      <th>scores.visitors.points</th>\n",
       "      <th>scores.home.linescore</th>\n",
       "      <th>scores.home.points</th>\n",
       "      <th>winner</th>\n",
       "      <th>diferencia_puntos</th>\n",
       "      <th>team</th>\n",
       "    </tr>\n",
       "  </thead>\n",
       "  <tbody>\n",
       "    <tr>\n",
       "      <th>0</th>\n",
       "      <td>10986</td>\n",
       "      <td>2022</td>\n",
       "      <td>1</td>\n",
       "      <td>2022-10-02 23:00</td>\n",
       "      <td>Toyota Center (Houston)</td>\n",
       "      <td>Houston</td>\n",
       "      <td>TX</td>\n",
       "      <td>31</td>\n",
       "      <td>San Antonio Spurs</td>\n",
       "      <td>Spurs</td>\n",
       "      <td>...</td>\n",
       "      <td>Houston Rockets</td>\n",
       "      <td>Rockets</td>\n",
       "      <td>HOU</td>\n",
       "      <td>[17, 20, 30, 29]</td>\n",
       "      <td>96</td>\n",
       "      <td>[30, 32, 35, 37]</td>\n",
       "      <td>134</td>\n",
       "      <td>Houston Rockets</td>\n",
       "      <td>38</td>\n",
       "      <td>lakers</td>\n",
       "    </tr>\n",
       "    <tr>\n",
       "      <th>1</th>\n",
       "      <td>11011</td>\n",
       "      <td>2022</td>\n",
       "      <td>1</td>\n",
       "      <td>2022-10-08 00:00</td>\n",
       "      <td>Toyota Center (Houston)</td>\n",
       "      <td>Houston</td>\n",
       "      <td>TX</td>\n",
       "      <td>38</td>\n",
       "      <td>Toronto Raptors</td>\n",
       "      <td>Raptors</td>\n",
       "      <td>...</td>\n",
       "      <td>Houston Rockets</td>\n",
       "      <td>Rockets</td>\n",
       "      <td>HOU</td>\n",
       "      <td>[29, 27, 23, 21]</td>\n",
       "      <td>100</td>\n",
       "      <td>[28, 37, 27, 24]</td>\n",
       "      <td>116</td>\n",
       "      <td>Houston Rockets</td>\n",
       "      <td>16</td>\n",
       "      <td>lakers</td>\n",
       "    </tr>\n",
       "    <tr>\n",
       "      <th>4</th>\n",
       "      <td>11054</td>\n",
       "      <td>2022</td>\n",
       "      <td>2</td>\n",
       "      <td>2022-10-19 23:30</td>\n",
       "      <td>State Farm Arena</td>\n",
       "      <td>Atlanta</td>\n",
       "      <td>GA</td>\n",
       "      <td>14</td>\n",
       "      <td>Houston Rockets</td>\n",
       "      <td>Rockets</td>\n",
       "      <td>...</td>\n",
       "      <td>Atlanta Hawks</td>\n",
       "      <td>Hawks</td>\n",
       "      <td>ATL</td>\n",
       "      <td>[20, 30, 30, 27]</td>\n",
       "      <td>107</td>\n",
       "      <td>[26, 33, 25, 33]</td>\n",
       "      <td>117</td>\n",
       "      <td>Atlanta Hawks</td>\n",
       "      <td>10</td>\n",
       "      <td>lakers</td>\n",
       "    </tr>\n",
       "    <tr>\n",
       "      <th>6</th>\n",
       "      <td>11082</td>\n",
       "      <td>2022</td>\n",
       "      <td>2</td>\n",
       "      <td>2022-10-23 00:00</td>\n",
       "      <td>Fiserv Forum</td>\n",
       "      <td>Milwaukee</td>\n",
       "      <td>WI</td>\n",
       "      <td>14</td>\n",
       "      <td>Houston Rockets</td>\n",
       "      <td>Rockets</td>\n",
       "      <td>...</td>\n",
       "      <td>Milwaukee Bucks</td>\n",
       "      <td>Bucks</td>\n",
       "      <td>MIL</td>\n",
       "      <td>[23, 25, 31, 26]</td>\n",
       "      <td>105</td>\n",
       "      <td>[41, 26, 31, 27]</td>\n",
       "      <td>125</td>\n",
       "      <td>Milwaukee Bucks</td>\n",
       "      <td>20</td>\n",
       "      <td>lakers</td>\n",
       "    </tr>\n",
       "    <tr>\n",
       "      <th>9</th>\n",
       "      <td>11129</td>\n",
       "      <td>2022</td>\n",
       "      <td>2</td>\n",
       "      <td>2022-10-29 02:00</td>\n",
       "      <td>Moda Center</td>\n",
       "      <td>Portland</td>\n",
       "      <td>OR</td>\n",
       "      <td>14</td>\n",
       "      <td>Houston Rockets</td>\n",
       "      <td>Rockets</td>\n",
       "      <td>...</td>\n",
       "      <td>Portland Trail Blazers</td>\n",
       "      <td>Trail Blazers</td>\n",
       "      <td>POR</td>\n",
       "      <td>[23, 35, 24, 29]</td>\n",
       "      <td>111</td>\n",
       "      <td>[32, 37, 27, 29]</td>\n",
       "      <td>125</td>\n",
       "      <td>Portland Trail Blazers</td>\n",
       "      <td>14</td>\n",
       "      <td>lakers</td>\n",
       "    </tr>\n",
       "  </tbody>\n",
       "</table>\n",
       "<p>5 rows × 22 columns</p>\n",
       "</div>"
      ],
      "text/plain": [
       "      id  season  stage        date.start               arena.name arena.city  \\\n",
       "0  10986    2022      1  2022-10-02 23:00  Toyota Center (Houston)    Houston   \n",
       "1  11011    2022      1  2022-10-08 00:00  Toyota Center (Houston)    Houston   \n",
       "4  11054    2022      2  2022-10-19 23:30         State Farm Arena    Atlanta   \n",
       "6  11082    2022      2  2022-10-23 00:00             Fiserv Forum  Milwaukee   \n",
       "9  11129    2022      2  2022-10-29 02:00              Moda Center   Portland   \n",
       "\n",
       "  arena.state  teams.visitors.id teams.visitors.name teams.visitors.nickname  \\\n",
       "0          TX                 31   San Antonio Spurs                   Spurs   \n",
       "1          TX                 38     Toronto Raptors                 Raptors   \n",
       "4          GA                 14     Houston Rockets                 Rockets   \n",
       "6          WI                 14     Houston Rockets                 Rockets   \n",
       "9          OR                 14     Houston Rockets                 Rockets   \n",
       "\n",
       "   ...         teams.home.name  teams.home.nickname teams.home.code  \\\n",
       "0  ...         Houston Rockets              Rockets             HOU   \n",
       "1  ...         Houston Rockets              Rockets             HOU   \n",
       "4  ...           Atlanta Hawks                Hawks             ATL   \n",
       "6  ...         Milwaukee Bucks                Bucks             MIL   \n",
       "9  ...  Portland Trail Blazers        Trail Blazers             POR   \n",
       "\n",
       "  scores.visitors.linescore scores.visitors.points scores.home.linescore  \\\n",
       "0          [17, 20, 30, 29]                     96      [30, 32, 35, 37]   \n",
       "1          [29, 27, 23, 21]                    100      [28, 37, 27, 24]   \n",
       "4          [20, 30, 30, 27]                    107      [26, 33, 25, 33]   \n",
       "6          [23, 25, 31, 26]                    105      [41, 26, 31, 27]   \n",
       "9          [23, 35, 24, 29]                    111      [32, 37, 27, 29]   \n",
       "\n",
       "   scores.home.points                  winner  diferencia_puntos    team  \n",
       "0                 134         Houston Rockets                 38  lakers  \n",
       "1                 116         Houston Rockets                 16  lakers  \n",
       "4                 117           Atlanta Hawks                 10  lakers  \n",
       "6                 125         Milwaukee Bucks                 20  lakers  \n",
       "9                 125  Portland Trail Blazers                 14  lakers  \n",
       "\n",
       "[5 rows x 22 columns]"
      ]
     },
     "execution_count": 13,
     "metadata": {},
     "output_type": "execute_result"
    }
   ],
   "source": [
    "print(\"Partidos con diferencia de puntos mayor o igual a 10:\")\n",
    "df_big_dif = df_all.query(\"diferencia_puntos >= 10\")\n",
    "df_big_dif.head()"
   ]
  }
 ],
 "metadata": {
  "kernelspec": {
   "display_name": "Python 3",
   "language": "python",
   "name": "python3"
  },
  "language_info": {
   "codemirror_mode": {
    "name": "ipython",
    "version": 3
   },
   "file_extension": ".py",
   "mimetype": "text/x-python",
   "name": "python",
   "nbconvert_exporter": "python",
   "pygments_lexer": "ipython3",
   "version": "3.11.4"
  }
 },
 "nbformat": 4,
 "nbformat_minor": 2
}
